{
 "cells": [
  {
   "cell_type": "code",
   "execution_count": null,
   "metadata": {},
   "outputs": [],
   "source": [
    "import pandas as pd\n",
    "import wandb"
   ]
  },
  {
   "cell_type": "code",
   "execution_count": null,
   "metadata": {},
   "outputs": [],
   "source": [
    "wdcnn_result_table = pd.read_csv(\"/data/home/jkataok1/DA_DFD/reports/CWRU_small_WDCNN.csv\")"
   ]
  },
  {
   "cell_type": "code",
   "execution_count": null,
   "metadata": {},
   "outputs": [],
   "source": [
    "wdcnn_result_table.head()"
   ]
  },
  {
   "cell_type": "code",
   "execution_count": 17,
   "metadata": {},
   "outputs": [
    {
     "data": {
      "text/plain": [
       "{'_step': 2404,\n",
       " 'src_acc': {'max': 1},\n",
       " '_runtime': 1329.6187982559204,\n",
       " 'best_tar_acc': 0.9293286204338074,\n",
       " 'loss_src_cls': 1.3862130641937256,\n",
       " 'loss_tar_ent': 0.052462972700595856,\n",
       " 'loss': 1.3862264156341553,\n",
       " 'epoch': 198,\n",
       " '_wandb': {'runtime': 1329},\n",
       " 'tar_acc': {'max': 0.9293286204338074},\n",
       " 'loss_dis': 0.6931679248809814,\n",
       " '_timestamp': 1701500734.7692664}"
      ]
     },
     "execution_count": 17,
     "metadata": {},
     "output_type": "execute_result"
    }
   ],
   "source": []
  }
 ],
 "metadata": {
  "kernelspec": {
   "display_name": "mlenv",
   "language": "python",
   "name": "python3"
  },
  "language_info": {
   "codemirror_mode": {
    "name": "ipython",
    "version": 3
   },
   "file_extension": ".py",
   "mimetype": "text/x-python",
   "name": "python",
   "nbconvert_exporter": "python",
   "pygments_lexer": "ipython3",
   "version": "3.7.16"
  }
 },
 "nbformat": 4,
 "nbformat_minor": 2
}
