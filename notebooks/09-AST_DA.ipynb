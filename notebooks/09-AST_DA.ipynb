{
 "cells": [
  {
   "cell_type": "code",
   "execution_count": 2,
   "metadata": {},
   "outputs": [
    {
     "name": "stderr",
     "output_type": "stream",
     "text": [
      "/data/home/jkataok1/mlenv/lib/python3.7/site-packages/tqdm/auto.py:21: TqdmWarning: IProgress not found. Please update jupyter and ipywidgets. See https://ipywidgets.readthedocs.io/en/stable/user_install.html\n",
      "  from .autonotebook import tqdm as notebook_tqdm\n",
      "/data/home/jkataok1/mlenv/lib/python3.7/site-packages/torch/autocast_mode.py:141: UserWarning: User provided device_type of 'cuda', but CUDA is not available. Disabling\n",
      "  warnings.warn('User provided device_type of \\'cuda\\', but CUDA is not available. Disabling')\n"
     ]
    }
   ],
   "source": [
    "import pandas as pd\n",
    "import torch\n",
    "import sys\n",
    "import numpy as np\n",
    "from scipy.signal import spectrogram\n",
    "sys.path.append('../src')\n",
    "import matplotlib.pyplot as plt\n",
    "from glob import glob\n",
    "import os\n",
    "from construct_model import get_model\n",
    "\n"
   ]
  },
  {
   "cell_type": "code",
   "execution_count": 3,
   "metadata": {},
   "outputs": [
    {
     "name": "stdout",
     "output_type": "stream",
     "text": [
      "---------------AST Model Summary---------------\n",
      "ImageNet pretraining: False, AudioSet pretraining: False\n",
      "frequncey stride=10, time stride=10\n",
      "number of patches=12\n"
     ]
    }
   ],
   "source": [
    "\n",
    "model = get_model(model_name=\"ast\", C_in=3, \n",
    "                      class_num=10,\n",
    "                      input_time_dim=128,\n",
    "                      input_freq_dim=24)"
   ]
  },
  {
   "cell_type": "code",
   "execution_count": 11,
   "metadata": {},
   "outputs": [
    {
     "name": "stdout",
     "output_type": "stream",
     "text": [
      "v.blocks.0.attn.proj.weight\n",
      "v.blocks.1.attn.proj.weight\n",
      "v.blocks.2.attn.proj.weight\n",
      "v.blocks.3.attn.proj.weight\n",
      "v.blocks.4.attn.proj.weight\n",
      "v.blocks.5.attn.proj.weight\n",
      "v.blocks.6.attn.proj.weight\n",
      "v.blocks.7.attn.proj.weight\n",
      "v.blocks.8.attn.proj.weight\n",
      "v.blocks.9.attn.proj.weight\n",
      "v.blocks.10.attn.proj.weight\n",
      "v.blocks.11.attn.proj.weight\n",
      "tensor([-2.6209e-06])\n"
     ]
    }
   ],
   "source": [
    "\n",
    "weight = torch.FloatTensor([0.0])\n",
    "c = 0\n",
    "for n, v in model.named_parameters():\n",
    "    if \"attn\" in n and \"weight\" in n and \"proj\" in n:\n",
    "        print(n)\n",
    "        attn_val = v.mean().item()\n",
    "        weight += attn_val\n",
    "        c += 1\n",
    "weight /= c\n",
    "print(weight)\n",
    "\n",
    "        "
   ]
  }
 ],
 "metadata": {
  "kernelspec": {
   "display_name": "Python 3 (ipykernel)",
   "language": "python",
   "name": "python3"
  },
  "language_info": {
   "codemirror_mode": {
    "name": "ipython",
    "version": 3
   },
   "file_extension": ".py",
   "mimetype": "text/x-python",
   "name": "python",
   "nbconvert_exporter": "python",
   "pygments_lexer": "ipython3",
   "version": "3.7.16"
  },
  "orig_nbformat": 4
 },
 "nbformat": 4,
 "nbformat_minor": 2
}
