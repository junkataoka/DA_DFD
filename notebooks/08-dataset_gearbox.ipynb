{
 "cells": [
  {
   "cell_type": "code",
   "execution_count": 2,
   "metadata": {},
   "outputs": [],
   "source": [
    "import pandas as pd\n",
    "import torch\n",
    "import sys\n",
    "import numpy as np\n",
    "from scipy.signal import spectrogram\n",
    "sys.path.append('../src')\n",
    "import matplotlib.pyplot as plt\n",
    "from glob import glob\n",
    "import os\n"
   ]
  },
  {
   "cell_type": "code",
   "execution_count": 3,
   "metadata": {},
   "outputs": [
    {
     "data": {
      "text/plain": [
       "((255, 8, 65, 36), (255,))"
      ]
     },
     "execution_count": 3,
     "metadata": {},
     "output_type": "execute_result"
    }
   ],
   "source": [
    "def format_gearbox(file_name, segment_length, nperseg):\n",
    "    X = []\n",
    "    y = []\n",
    "\n",
    "    if \"20_0\" in file_name:\n",
    "        domain = 0 \n",
    "        frequency = 20\n",
    "\n",
    "    elif \"30_2\" in file_name:\n",
    "        domain = 1\n",
    "        frequency = 30\n",
    "    \n",
    "    if \"ball\" in file_name and frequency==20 and domain==0:\n",
    "        sep = \",\"\n",
    "    else:\n",
    "        sep = \"\\t\"\n",
    "    \n",
    "    df = pd.read_csv(file_name, skiprows=16, header=None, usecols=range(8), sep=sep)\n",
    "    cols = [\"ch1\", \"ch2\", \"ch3\", \"ch4\", \"ch5\", \"ch6\", \"ch7\", \"ch8\"]\n",
    "    df.columns = cols\n",
    "\n",
    "    if \"ball\" in file_name:\n",
    "        df[\"label\"] = 0\n",
    "\n",
    "    elif \"comb\" in file_name:\n",
    "        df[\"label\"] = 1\n",
    "\n",
    "    elif \"inner\" in file_name:\n",
    "        df[\"label\"] = 2\n",
    "\n",
    "    elif \"outer\" in file_name:\n",
    "        df[\"label\"] = 3\n",
    "\n",
    "    elif \"health\" in file_name:\n",
    "        df[\"label\"] = 4\n",
    "\n",
    "    N = df.shape[0]\n",
    "    val = df[cols].values\n",
    "    splitted_val = np.stack(np.array_split(val[:int(N//segment_length * segment_length)], N//segment_length))\n",
    "    for i in range(splitted_val.shape[0]):\n",
    "        temp_X = []\n",
    "        for j in range(splitted_val.shape[2]):\n",
    "            f, t, sxx = spectrogram(splitted_val[i, :, j], fs=frequency, nperseg=nperseg)\n",
    "            temp_X.append(sxx)\n",
    "\n",
    "        y.append(df['label'][0])\n",
    "        X.append(np.stack(temp_X))\n",
    "\n",
    "    X = np.stack(X)\n",
    "    y = np.stack(y)\n",
    "\n",
    "    return X, y\n",
    "\n",
    "X, y = format_gearbox(\"/data/home/jkataok1/DA_DFD/data/raw/gearbox/bearingset/ball_20_0.csv\", segment_length=2048*2, nperseg=128)\n",
    "X.shape, y.shape\n",
    "\n"
   ]
  },
  {
   "cell_type": "code",
   "execution_count": 4,
   "metadata": {},
   "outputs": [
    {
     "name": "stdout",
     "output_type": "stream",
     "text": [
      "['/data/home/jkataok1/DA_DFD/data/raw/gearbox/bearingset/health_30_2.csv', '/data/home/jkataok1/DA_DFD/data/raw/gearbox/bearingset/ball_20_0.csv', '/data/home/jkataok1/DA_DFD/data/raw/gearbox/bearingset/outer_20_0.csv', '/data/home/jkataok1/DA_DFD/data/raw/gearbox/bearingset/outer_30_2.csv', '/data/home/jkataok1/DA_DFD/data/raw/gearbox/bearingset/health_20_0.csv', '/data/home/jkataok1/DA_DFD/data/raw/gearbox/bearingset/ball_30_2.csv', '/data/home/jkataok1/DA_DFD/data/raw/gearbox/bearingset/comb_30_2.csv', '/data/home/jkataok1/DA_DFD/data/raw/gearbox/bearingset/inner_20_0.csv', '/data/home/jkataok1/DA_DFD/data/raw/gearbox/bearingset/comb_20_0.csv', '/data/home/jkataok1/DA_DFD/data/raw/gearbox/bearingset/inner_30_2.csv']\n",
      "/data/home/jkataok1/DA_DFD/data/raw/gearbox/bearingset/ball_20_0.csv\n",
      "/data/home/jkataok1/DA_DFD/data/raw/gearbox/bearingset/outer_20_0.csv\n",
      "/data/home/jkataok1/DA_DFD/data/raw/gearbox/bearingset/health_20_0.csv\n",
      "/data/home/jkataok1/DA_DFD/data/raw/gearbox/bearingset/inner_20_0.csv\n",
      "/data/home/jkataok1/DA_DFD/data/raw/gearbox/bearingset/comb_20_0.csv\n",
      "/data/home/jkataok1/DA_DFD/data/raw/gearbox/bearingset/health_30_2.csv\n",
      "/data/home/jkataok1/DA_DFD/data/raw/gearbox/bearingset/outer_30_2.csv\n",
      "/data/home/jkataok1/DA_DFD/data/raw/gearbox/bearingset/ball_30_2.csv\n",
      "/data/home/jkataok1/DA_DFD/data/raw/gearbox/bearingset/comb_30_2.csv\n",
      "/data/home/jkataok1/DA_DFD/data/raw/gearbox/bearingset/inner_30_2.csv\n"
     ]
    }
   ],
   "source": [
    "def prepare_gearbox(data_folder, segment_length, nperseg):\n",
    "    X_domain0 = []\n",
    "    y_domain0 = []\n",
    "    X_domain1 = []\n",
    "    y_domain1 = []\n",
    "\n",
    "    files = glob(data_folder + \"/*\")\n",
    "    files_domain0 = [file for file in files if \"20_0\" in file]\n",
    "    files_domain1 = [file for file in files if \"30_2\" in file]\n",
    "    print(files)\n",
    "\n",
    "    for file in files_domain0:\n",
    "        print(file)\n",
    "        _X, _y = format_gearbox(file, segment_length, nperseg)\n",
    "        X_domain0.append(_X)\n",
    "        y_domain0.append(_y)\n",
    "    \n",
    "    for file in files_domain1:\n",
    "        print(file)\n",
    "        _X, _y = format_gearbox(file, segment_length, nperseg)\n",
    "        X_domain1.append(_X)\n",
    "        y_domain1.append(_y)\n",
    "\n",
    "    X_domain0 = np.concatenate(X_domain0)\n",
    "    X_domain0 = (X_domain0 - X_domain0.mean(axis=(0, -2, -1), keepdims=True)) / (X_domain0.std(axis=(0, -2, -1), keepdims=True)+1e-6)\n",
    "    y_domain0 = np.concatenate(y_domain0)\n",
    "    y_domain0 = y_domain0.reshape(-1, 1)\n",
    "\n",
    "    X_domain1 = np.concatenate(X_domain1)\n",
    "    X_domain1 = (X_domain1 - X_domain1.mean(axis=(0, -2, -1), keepdims=True)) / (X_domain1.std(axis=(0, -2, -1), keepdims=True)+1e-6)\n",
    "\n",
    "    y_domain1 = np.concatenate(y_domain1)\n",
    "    y_domain1 = y_domain1.reshape(-1, 1)\n",
    "\n",
    "    save_path = \"/data/home/jkataok1/DA_DFD/data/processed/gearbox\"\n",
    "    np.savez(os.path.join(save_path, \"0_spectrogram.npz\"), x=X_domain0, y=y_domain0)\n",
    "    np.savez(os.path.join(save_path, \"1_spectrogram.npz\"), x=X_domain1, y=y_domain1)\n",
    "\n",
    "prepare_gearbox(\"/data/home/jkataok1/DA_DFD/data/raw/gearbox/bearingset\", segment_length=2048, nperseg=128)"
   ]
  },
  {
   "cell_type": "code",
   "execution_count": 14,
   "metadata": {},
   "outputs": [
    {
     "data": {
      "text/plain": [
       "(2555, 8, 65, 18)"
      ]
     },
     "execution_count": 14,
     "metadata": {},
     "output_type": "execute_result"
    }
   ],
   "source": [
    "np.load(\"/data/home/jkataok1/DA_DFD/data/processed/gearbox/1_spectrogram.npz\", allow_pickle=True)[\"x\"].shape"
   ]
  }
 ],
 "metadata": {
  "kernelspec": {
   "display_name": "Python 3 (ipykernel)",
   "language": "python",
   "name": "python3"
  },
  "language_info": {
   "codemirror_mode": {
    "name": "ipython",
    "version": 3
   },
   "file_extension": ".py",
   "mimetype": "text/x-python",
   "name": "python",
   "nbconvert_exporter": "python",
   "pygments_lexer": "ipython3",
   "version": "3.7.16"
  },
  "orig_nbformat": 4
 },
 "nbformat": 4,
 "nbformat_minor": 2
}
