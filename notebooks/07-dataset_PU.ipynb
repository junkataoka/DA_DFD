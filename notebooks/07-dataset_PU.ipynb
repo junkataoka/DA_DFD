{
 "cells": [
  {
   "cell_type": "code",
   "execution_count": null,
   "metadata": {},
   "outputs": [
    {
     "name": "stderr",
     "output_type": "stream",
     "text": [
      "/data/home/jkataok1/mlenv/lib/python3.7/site-packages/tqdm/auto.py:21: TqdmWarning: IProgress not found. Please update jupyter and ipywidgets. See https://ipywidgets.readthedocs.io/en/stable/user_install.html\n",
      "  from .autonotebook import tqdm as notebook_tqdm\n"
     ]
    }
   ],
   "source": [
    "import pandas as pd\n",
    "import torch\n",
    "import sys\n",
    "import os\n",
    "import pandas as pd\n",
    "from scipy.io import loadmat\n",
    "from tqdm import tqdm\n",
    "from glob import glob\n",
    "import numpy as np\n",
    "from collections import defaultdict\n",
    "from glob import glob\n",
    "from scipy.signal import spectrogram\n",
    "sys.path.append('../src')"
   ]
  },
  {
   "cell_type": "code",
   "execution_count": 2,
   "metadata": {},
   "outputs": [],
   "source": [
    "signal_size = 2048\n",
    "root = \"/data/home/jkataok1/DA_DFD/data/raw/PU\"\n",
    "#bearing_codes = [\"K001\", \"KI14\", \"KI18\", \"KA04\", \"KA16\", \"KB23\", \"KB24\"]\n",
    "working_condtions = [\"N15_M07_F10\",\"N09_M07_F10\",\"N15_M01_F10\",\"N15_M07_F04\"]\n",
    "\n",
    "healthy_code = [\"K001\", \"K002\", \"K003\", \"K004\", \"K005\"]\n",
    "outer_rind_code = [\"KA04\", \"KA15\", \"KA16\", \"KA22\", \"KA30\"]\n",
    "inner_ring_code = [\"KI01\", \"KI14\", \"KI16\", \"KI18\", \"KI21\"]\n",
    "\n",
    "bearing_codes = healthy_code + outer_rind_code + inner_ring_code\n",
    "\n",
    "def data_load(filename,name):\n",
    "    '''\n",
    "    This function is mainly used to generate test data and training data.\n",
    "    filename:Data location\n",
    "    '''\n",
    "    fl = loadmat(filename)[name]\n",
    "    fl = fl[0][0][2][0][6][2]  #Take out the data\n",
    "    fl = fl.reshape(-1,1)\n",
    "    data=[] \n",
    "    start,end=0, signal_size\n",
    "    while end<=fl.shape[0]:\n",
    "        #data.append(fl[start:end])\n",
    "        signal = fl[start:end].reshape(-1)\n",
    "        f, t, sxx = spectrogram(signal, fs=2048, nperseg=128)\n",
    "        data.append(sxx)\n",
    "        start += signal_size\n",
    "        end += signal_size\n",
    "\n",
    "    data = np.stack(data, axis=0)\n",
    "\n",
    "    return data\n",
    "\n",
    "\n",
    "def load_pu(root, bearing_codes, working_condtion):\n",
    "    data = []\n",
    "    label = []\n",
    "    for i in range(len(bearing_codes)):\n",
    "        file_names = glob(os.path.join(root,  bearing_codes[i], working_condtion + '*'))\n",
    "        for f in file_names:\n",
    "            f_name = os.path.basename(f).split('.')[0]\n",
    "\n",
    "            f_data = data_load(f, f_name)\n",
    "            data.append(f_data)\n",
    "            if bearing_codes[i] in healthy_code:\n",
    "                label.append(np.repeat(0, len(f_data)))\n",
    "            elif bearing_codes[i] in outer_rind_code:\n",
    "                label.append(np.repeat(1, len(f_data)))\n",
    "            elif bearing_codes[i] in inner_ring_code:\n",
    "                label.append(np.repeat(2, len(f_data)))\n",
    "\n",
    "    data = np.expand_dims(np.concatenate(data), axis=1)\n",
    "    data = (data - data.mean(axis=(0, -2, -1), keepdims=True)) / (data.std(axis=(0, -2, -1), keepdims=True)+1e-8)\n",
    "    label = np.expand_dims(np.concatenate(label), axis=-1)\n",
    "\n",
    "    return data, label\n",
    "\n",
    "save_path = \"/data/home/jkataok1/DA_DFD/data/processed/PU\"\n",
    "for i in range(len(working_condtions)):\n",
    "    data, label = load_pu(root, bearing_codes, working_condtions[i])\n",
    "    np.savez(os.path.join(save_path, f'{i}_spectrogram.npz'), x=data, y=label)\n",
    "\n",
    "    \n",
    "\n"
   ]
  },
  {
   "cell_type": "code",
   "execution_count": 11,
   "metadata": {},
   "outputs": [],
   "source": [
    "x = np.load(\"/data/home/jkataok1/DA_DFD/data/processed/PU/0_spectrogram.npz\")[\"x\"]\n",
    "y = np.load(\"/data/home/jkataok1/DA_DFD/data/processed/PU/0_spectrogram.npz\")[\"y\"]"
   ]
  }
 ],
 "metadata": {
  "kernelspec": {
   "display_name": "Python 3 (ipykernel)",
   "language": "python",
   "name": "python3"
  },
  "language_info": {
   "codemirror_mode": {
    "name": "ipython",
    "version": 3
   },
   "file_extension": ".py",
   "mimetype": "text/x-python",
   "name": "python",
   "nbconvert_exporter": "python",
   "pygments_lexer": "ipython3",
   "version": "3.7.16"
  },
  "orig_nbformat": 4
 },
 "nbformat": 4,
 "nbformat_minor": 2
}
