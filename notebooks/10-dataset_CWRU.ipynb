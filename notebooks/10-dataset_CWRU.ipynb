{
 "cells": [
  {
   "cell_type": "code",
   "execution_count": 241,
   "metadata": {},
   "outputs": [],
   "source": [
    "import numpy as np\n",
    "import pandas as pd\n",
    "import scipy.io\n",
    "import os\n",
    "from glob import glob\n",
    "import matplotlib.pyplot as plt\n",
    "from scipy.signal import spectrogram\n",
    "import tqdm"
   ]
  },
  {
   "cell_type": "code",
   "execution_count": 242,
   "metadata": {},
   "outputs": [],
   "source": [
    "def rename_keys(dic):\n",
    "    '''\n",
    "    Rename some keys so that they can be loaded into a \n",
    "    DataFrame with consistent column names\n",
    "    '''\n",
    "    # For each file in the dictionary\n",
    "    for _,v1 in dic.items():\n",
    "        # For each key-value pair, rename the following keys \n",
    "        for k2,_ in list(v1.items()):\n",
    "            if 'DE_time' in k2:\n",
    "                v1['DE_time'] = v1.pop(k2)\n",
    "            elif 'BA_time' in k2:\n",
    "                v1['BA_time'] = v1.pop(k2)\n",
    "            elif 'FE_time' in k2:\n",
    "                v1['FE_time'] = v1.pop(k2)\n",
    "            elif 'RPM' in k2:\n",
    "                v1['RPM'] = v1.pop(k2)"
   ]
  },
  {
   "cell_type": "code",
   "execution_count": 243,
   "metadata": {},
   "outputs": [],
   "source": [
    "def remove_dic_items(dic):\n",
    "    '''\n",
    "    Remove redundant data in the dictionary returned by matfile_to_dic inplace.\n",
    "    '''\n",
    "    # For each file in the dictionary, delete the redundant key-value pairs\n",
    "    for _, values in dic.items():\n",
    "        del values['__header__']\n",
    "        del values['__version__']    \n",
    "        del values['__globals__']\n"
   ]
  },
  {
   "cell_type": "code",
   "execution_count": 244,
   "metadata": {},
   "outputs": [],
   "source": [
    "def matfile_to_dic(folder_path):\n",
    "    '''\n",
    "    Read all the matlab files of the CWRU Bearing Dataset and return a \n",
    "    dictionary. The key of each item is the filename and the value is the data \n",
    "    of one matlab file, which also has key value pairs.\n",
    "    \n",
    "    Parameter:\n",
    "        folder_path: \n",
    "            Path (Path object) of the folder which contains the matlab files.\n",
    "    Return:\n",
    "        output_dic: \n",
    "            Dictionary which contains data of all files in the folder_path.\n",
    "    '''\n",
    "    output_dic = {}\n",
    "    for _, filepath in enumerate(glob(os.path.join(folder_path, '*.mat'))):\n",
    "        # strip the folder path and get the filename only.\n",
    "        key_name = str(filepath).split('\\\\')[-1]\n",
    "        output_dic[key_name] = scipy.io.loadmat(filepath)\n",
    "    return output_dic"
   ]
  },
  {
   "cell_type": "code",
   "execution_count": 245,
   "metadata": {},
   "outputs": [],
   "source": [
    "def label(filename):\n",
    "    '''\n",
    "    Function to create label for each signal based on the filename. Apply this\n",
    "    to the \"filename\" column of the DataFrame.\n",
    "    Usage:\n",
    "        df['label'] = df['filename'].apply(label)\n",
    "    '''\n",
    "    if 'B' in filename:\n",
    "        return 1\n",
    "    elif 'IR' in filename:\n",
    "        return 2\n",
    "    elif 'OR' in filename:\n",
    "        return 3\n",
    "    elif 'Normal' in filename:\n",
    "        return 0"
   ]
  },
  {
   "cell_type": "code",
   "execution_count": 246,
   "metadata": {},
   "outputs": [],
   "source": [
    "def matfile_to_df(folder_path):\n",
    "    '''\n",
    "    Read all the matlab files in the folder, preprocess, and return a DataFrame\n",
    "    \n",
    "    Parameter:\n",
    "        folder_path: \n",
    "            Path (Path object) of the folder which contains the matlab files.\n",
    "    Return:\n",
    "        DataFrame with preprocessed data\n",
    "    '''\n",
    "    dic = matfile_to_dic(folder_path)\n",
    "    remove_dic_items(dic)\n",
    "    rename_keys(dic)\n",
    "    df = pd.DataFrame.from_dict(dic).T\n",
    "    df = df.reset_index().rename(mapper={'index':'filename'},axis=1)\n",
    "    df['label'] = df['filename'].apply(label)\n",
    "    return df.drop(['BA_time','FE_time', 'RPM', 'ans'], axis=1, errors='ignore')"
   ]
  },
  {
   "cell_type": "code",
   "execution_count": 247,
   "metadata": {},
   "outputs": [],
   "source": [
    "datapath_de12 = \"/data/home/jkataok1/DA_DFD/data/raw/CWRU/12k_DE\"\n",
    "datapath_fe12 = \"/data/home/jkataok1/DA_DFD/data/raw/CWRU/12k_FE\"\n",
    "normalpath = \"/data/home/jkataok1/DA_DFD/data/raw/CWRU/Normal\"\n",
    "de12 = matfile_to_df(datapath_de12)\n",
    "fe12 = matfile_to_df(datapath_fe12)\n",
    "normal = matfile_to_df(normalpath)\n",
    "fe12.drop([\"i\"], axis=1, inplace=True)\n",
    "df = pd.concat([de12, fe12, normal], axis=0)\n",
    "temp = df[\"filename\"].tolist()\n",
    "condition = [int(temp[i].split('/')[-1].split('_')[-1].split(\".\")[0]) for i in range(len(temp))]\n",
    "df[\"condition\"] = condition\n",
    "#temp = get_df_all(defe, segment_length=512, normalize=False)"
   ]
  },
  {
   "cell_type": "code",
   "execution_count": 248,
   "metadata": {},
   "outputs": [
    {
     "name": "stderr",
     "output_type": "stream",
     "text": [
      "109it [00:01, 58.93it/s]\n"
     ]
    }
   ],
   "source": [
    "val_list = df[\"DE_time\"].to_list()\n",
    "label_list = df[\"label\"].to_list()\n",
    "cond_list = df[\"condition\"].to_list()\n",
    "segment_length = 2048\n",
    "frequency = 1\n",
    "nperseg = 128\n",
    "x_out = []\n",
    "y_out = []\n",
    "cond_out = []\n",
    "# Itereate each signal and split it into segments of length `segment_length`\n",
    "# Use tqdm\n",
    "for i, (val, label, cond) in enumerate(tqdm.tqdm(zip(val_list, label_list, cond_list))):\n",
    "    N = len(val)\n",
    "    splitted_val = np.stack(np.array_split(val[:int(N//segment_length * segment_length)], N//segment_length))\n",
    "    splitted_val = splitted_val.reshape(-1, segment_length)\n",
    "    for i in range(splitted_val.shape[0]):\n",
    "        f, t, sxx = spectrogram(splitted_val[i, :], fs=frequency, nperseg=nperseg)\n",
    "        x_out.append(np.expand_dims(sxx, 0))\n",
    "        y_out.append(label)\n",
    "        cond_out.append(cond)\n",
    "x = np.stack(x_out, axis=0)\n",
    "y = np.stack(y_out, axis=0)\n",
    "y = np.expand_dims(y, 1)\n",
    "cond = np.stack(cond_out, axis=0)\n"
   ]
  },
  {
   "cell_type": "code",
   "execution_count": 255,
   "metadata": {},
   "outputs": [],
   "source": [
    "def normalize(arr):\n",
    "    #arr = (arr - arr.min()) / (arr.max() - arr.min())\n",
    "    arr = np.log(arr + 1)\n",
    "    return arr\n",
    "x0, y0 = normalize(x[cond==0]), y[cond==0]\n",
    "np.savez(\"/data/home/jkataok1/DA_DFD/data/processed/CWRU/0_spectrogram.npz\", x=x0, y=y0)\n",
    "x1, y1 = normalize(x[cond==1]), y[cond==1]\n",
    "np.savez(\"/data/home/jkataok1/DA_DFD/data/processed/CWRU/1_spectrogram.npz\", x=x1, y=y1)\n",
    "x2, y2 = normalize(x[cond==2]), y[cond==2]\n",
    "np.savez(\"/data/home/jkataok1/DA_DFD/data/processed/CWRU/2_spectrogram.npz\", x=x2, y=y2)\n",
    "x3, y3 = normalize(x[cond==3]), y[cond==3]\n",
    "np.savez(\"/data/home/jkataok1/DA_DFD/data/processed/CWRU/3_spectrogram.npz\", x=x3, y=y3)"
   ]
  },
  {
   "cell_type": "code",
   "execution_count": 257,
   "metadata": {},
   "outputs": [
    {
     "data": {
      "text/plain": [
       "6.901360037335617"
      ]
     },
     "execution_count": 257,
     "metadata": {},
     "output_type": "execute_result"
    }
   ],
   "source": [
    "temp = np.load(\"/data/home/jkataok1/DA_DFD/data/processed/CWRU/1_spectrogram.npz\")\n",
    "temp['x'].max()"
   ]
  },
  {
   "cell_type": "code",
   "execution_count": null,
   "metadata": {},
   "outputs": [],
   "source": []
  }
 ],
 "metadata": {
  "kernelspec": {
   "display_name": "mlenv",
   "language": "python",
   "name": "python3"
  },
  "language_info": {
   "codemirror_mode": {
    "name": "ipython",
    "version": 3
   },
   "file_extension": ".py",
   "mimetype": "text/x-python",
   "name": "python",
   "nbconvert_exporter": "python",
   "pygments_lexer": "ipython3",
   "version": "3.7.16"
  }
 },
 "nbformat": 4,
 "nbformat_minor": 2
}
