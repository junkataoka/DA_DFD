{
 "cells": [
  {
   "cell_type": "code",
   "execution_count": 1,
   "metadata": {},
   "outputs": [
    {
     "name": "stderr",
     "output_type": "stream",
     "text": [
      "/data/home/jkataok1/mlenv/lib/python3.7/site-packages/tqdm/auto.py:21: TqdmWarning: IProgress not found. Please update jupyter and ipywidgets. See https://ipywidgets.readthedocs.io/en/stable/user_install.html\n",
      "  from .autonotebook import tqdm as notebook_tqdm\n",
      "/data/home/jkataok1/mlenv/lib/python3.7/site-packages/torch/autocast_mode.py:141: UserWarning: User provided device_type of 'cuda', but CUDA is not available. Disabling\n",
      "  warnings.warn('User provided device_type of \\'cuda\\', but CUDA is not available. Disabling')\n"
     ]
    }
   ],
   "source": [
    "import pandas as pd\n",
    "import torch\n",
    "import sys\n",
    "sys.path.append('../src')\n",
    "from construct_model import get_model"
   ]
  },
  {
   "cell_type": "code",
   "execution_count": 3,
   "metadata": {},
   "outputs": [
    {
     "name": "stdout",
     "output_type": "stream",
     "text": [
      "---------------AST Model Summary---------------\n",
      "ImageNet pretraining: False, AudioSet pretraining: False\n",
      "frequncey stride=10, time stride=10\n",
      "number of patches=5\n"
     ]
    }
   ],
   "source": [
    "\n",
    "class Args:\n",
    "    def __init__(self, model, num_classes):\n",
    "        self.model = model\n",
    "        self.num_classes = num_classes\n",
    "args = Args(model='ast', num_classes=4)\n",
    "\n",
    "model = get_model(model_name=f\"{args.model}\", C_in=1, \n",
    "                    class_num=args.num_classes)"
   ]
  },
  {
   "cell_type": "code",
   "execution_count": 12,
   "metadata": {},
   "outputs": [
    {
     "data": {
      "text/plain": [
       "[('batch_norm_src',\n",
       "  BatchNorm1d(2048, eps=1e-05, momentum=0.1, affine=True, track_running_stats=True)),\n",
       " ('batch_norm_tar',\n",
       "  BatchNorm1d(2048, eps=1e-05, momentum=0.1, affine=True, track_running_stats=True)),\n",
       " ('mlp_head', Linear(in_features=2048, out_features=4, bias=True)),\n",
       " ('mlp_dis', Linear(in_features=2048, out_features=2, bias=True))]"
      ]
     },
     "execution_count": 12,
     "metadata": {},
     "output_type": "execute_result"
    }
   ],
   "source": [
    "list(model.named_modules())[-4:]"
   ]
  }
 ],
 "metadata": {
  "kernelspec": {
   "display_name": "Python 3 (ipykernel)",
   "language": "python",
   "name": "python3"
  },
  "language_info": {
   "codemirror_mode": {
    "name": "ipython",
    "version": 3
   },
   "file_extension": ".py",
   "mimetype": "text/x-python",
   "name": "python",
   "nbconvert_exporter": "python",
   "pygments_lexer": "ipython3",
   "version": "3.7.16"
  },
  "orig_nbformat": 4
 },
 "nbformat": 4,
 "nbformat_minor": 2
}
